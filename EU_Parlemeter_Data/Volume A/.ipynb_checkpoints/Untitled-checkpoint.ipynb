{
 "cells": [
  {
   "cell_type": "code",
   "execution_count": null,
   "id": "2f8466ec-ed7b-43d1-8974-f8ba233e4714",
   "metadata": {},
   "outputs": [],
   "source": [
    "from scholarly import scholarly\n",
    "import os\n",
    "\n",
    "# Set up a directory to save files\n",
    "output_dir = \"scholar_papers\"\n",
    "os.makedirs(output_dir, exist_ok=True)\n",
    "\n",
    "# Search for the author (replace with the target name)\n",
    "author_name = \"Albert Einstein\"\n",
    "search_query = scholarly.search_author(author_name)\n",
    "author = next(search_query)\n",
    "\n",
    "# Fetch all publications\n",
    "publications = scholarly.fill(author)['publications']\n",
    "\n",
    "for i, pub in enumerate(publications):\n",
    "    try:\n",
    "        # Fetch full publication details (including abstract)\n",
    "        pub_filled = scholarly.fill(pub)\n",
    "        title = pub_filled['bib']['title']\n",
    "        abstract = pub_filled.get('bib', {}).get('abstract', 'No abstract available.')\n",
    "        \n",
    "        # Save each paper to a separate .txt file\n",
    "        filename = os.path.join(output_dir, f\"paper_{i+1}.txt\")\n",
    "        with open(filename, 'w', encoding='utf-8') as f:\n",
    "            f.write(f\"Title: {title}\\n\\nAbstract: {abstract}\")\n",
    "        \n",
    "        print(f\"Saved: {filename}\")\n",
    "    \n",
    "    except Exception as e:\n",
    "        print(f\"Error fetching paper {i+1}: {e}\")"
   ]
  }
 ],
 "metadata": {
  "kernelspec": {
   "display_name": "Python 3 (ipykernel)",
   "language": "python",
   "name": "python3"
  },
  "language_info": {
   "codemirror_mode": {
    "name": "ipython",
    "version": 3
   },
   "file_extension": ".py",
   "mimetype": "text/x-python",
   "name": "python",
   "nbconvert_exporter": "python",
   "pygments_lexer": "ipython3",
   "version": "3.11.7"
  }
 },
 "nbformat": 4,
 "nbformat_minor": 5
}
